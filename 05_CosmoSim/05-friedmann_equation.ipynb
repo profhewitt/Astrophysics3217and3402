{
 "cells": [
  {
   "cell_type": "markdown",
   "metadata": {},
   "source": [
    "You may remember from last semester that the first step is always to initialize things in the python notebook."
   ]
  },
  {
   "cell_type": "code",
   "execution_count": 1,
   "metadata": {},
   "outputs": [
    {
     "name": "stdout",
     "output_type": "stream",
     "text": [
      "Populating the interactive namespace from numpy and matplotlib\n"
     ]
    }
   ],
   "source": [
    "import numpy as np\n",
    "import matplotlib\n",
    "import scipy as sp\n",
    "from scipy.integrate import odeint\n",
    "%pylab inline"
   ]
  },
  {
   "cell_type": "markdown",
   "metadata": {},
   "source": [
    "Conveniently, astropy has all the latest cosmological parameters available as a module. Here we import them to simulate our universe."
   ]
  },
  {
   "cell_type": "code",
   "execution_count": null,
   "metadata": {
    "collapsed": true
   },
   "outputs": [],
   "source": [
    "# Import cosmological constants from latest Planck resutls via astropy\n",
    "import astropy.units as u\n",
    "from astropy.constants import G, h, k_B\n",
    "\n",
    "from astropy.cosmology import Planck15\n",
    "omega_m = Planck15.Odm0+Planck15.Ob0 # total matter = dark matter + baryons\n",
    "omega_de = Planck15.Ode0\n",
    "omega_r = Planck15.Ogamma0\n",
    "H0 = Planck15.H0 /u.km*u.Mpc*u.s*3.154e+7 #need to divide out the units to make H0 dimensionless, and change from s to yr."
   ]
  },
  {
   "cell_type": "code",
   "execution_count": 2,
   "metadata": {},
   "outputs": [],
   "source": [
    "# Import cosmological constants from latest Planck resutls via astropy\n",
    "import astropy.units as u\n",
    "from astropy.constants import G, h, k_B\n",
    "\n",
    "from astropy.cosmology import Planck15\n",
    "omega_m = Planck15.Odm0+Planck15.Ob0 # total matter = dark matter + baryons\n",
    "omega_de = Planck15.Ode0\n",
    "omega_r = Planck15.Ogamma0\n",
    "H0 = Planck15.H0 /u.km*u.Mpc*u.s*3.154e+7 #need to divide out the units to make H0 dimensionless, and change from s to yr."
   ]
  },
  {
   "cell_type": "markdown",
   "metadata": {},
   "source": [
    "The complete Friedmann equation for our universe includes three types of \"stuff\" each with their own equation of state, plus a term that can account for space-time curvature (Ryden, equation 6.6):\n",
    "\n",
    "${\\frac {H^{2}}{H_0^{2}}}= \\frac{\\Omega _{r,0}}{a^{4}} + \\frac{\\Omega _{m,0}}{a^{3}} + \\Omega _{\\Lambda,0} + \\frac{1 - \\Omega_{0}}{a^{2}}.$\n",
    "\n",
    "Observations indicate our universe is very close to flat, but may not be exactly flat, so that last term may NOT be zero.\n",
    "\n",
    "We would like to plot the scale factor as a function of time. Since $H(t) = \\frac{\\dot a^2}{a^2}$ we can re-arrange the Friedmann equation to be in terms of $a$ and $t$ and integrate it numerically:\n",
    "\n",
    "${\\dot a^{2}}= H_{0}^{2} \\big( \\frac{\\Omega _{r,0}}{a^{2}} + \\frac{\\Omega _{m,0}}{a} + \\Omega _{\\Lambda,0}a^2 + 1 - \\Omega_{0}. \\big)$\n"
   ]
  },
  {
   "cell_type": "code",
   "execution_count": 3,
   "metadata": {},
   "outputs": [],
   "source": [
    "def Friedmann(a, t):\n",
    "    # The above declaration of the function has three optional arguments\n",
    "    #   so that you can pass any values for the dimensionless density of\n",
    "    #   radiation, matter of dark energy\n",
    "    global omega_r, omega_m, omega_de\n",
    "    dadt = H0*np.sqrt( omega_r*a**-2 + omega_m*a**-1 + omega_de*a*2 + (1-omega_r-omega_m-omega_de) )\n",
    "    return dadt"
   ]
  },
  {
   "cell_type": "markdown",
   "metadata": {},
   "source": [
    "We now need to choose some reasonable limits for integration in time... something very small but not zero!"
   ]
  },
  {
   "cell_type": "code",
   "execution_count": 7,
   "metadata": {},
   "outputs": [
    {
     "name": "stdout",
     "output_type": "stream",
     "text": [
      "Omega_r =  0\n",
      "Omega_m =  0.3\n",
      "Omega_de =  2.8\n"
     ]
    }
   ],
   "source": [
    "timeStep = 1.0e7\t\t\t\t\t# in years\n",
    "rho_crit = 9.3e-27\n",
    "omega_r = 0\n",
    "omega_m = 0.3\n",
    "omega_de = 2.8\n",
    "\n",
    "print \"Omega_r = \",omega_r\n",
    "print \"Omega_m = \",omega_m\n",
    "print \"Omega_de = \",omega_de"
   ]
  },
  {
   "cell_type": "code",
   "execution_count": 8,
   "metadata": {},
   "outputs": [],
   "source": [
    "# note: couldn't get integrator to work, so brute force evaluated the Friedmann equation forward and backward in time.\n",
    "import math\n",
    "\n",
    "# Constants\n",
    "hubbleConst = 7.2e-11        # in inverse years\n",
    "gravConst = 66450            # in m^3 / kg / yr^2\n",
    "matterDensity = omega_m*rho_crit\n",
    "radiationDensity = omega_r*rho_crit\n",
    "darkEnergyDensity = omega_de*rho_crit\n",
    "\n",
    "darkEnergyW = -1.0\t\t\t\t\t# dimensionless equation-of-state parameter\n",
    "darkEnergyFactor = 3.0 * darkEnergyW + 1.0\n",
    "darkEnergyPower = 3.0 * darkEnergyW + 2.0\n",
    "\n",
    "\n",
    "# Run simulation backward from present day until scale factor is < 0.01\n",
    "\n",
    "lResultsBackward = []\n",
    "\n",
    "curTime = 0.0\n",
    "curScale = 1.0\n",
    "curHubble = hubbleConst\n",
    "\n",
    "while curScale > 0.01:\n",
    "    matterTerm = matterDensity / (curScale ** 2)\n",
    "    radiationTerm = 2.0 * radiationDensity / (curScale ** 3)\n",
    "    darkEnergyTerm = darkEnergyFactor * darkEnergyDensity / (curScale ** darkEnergyPower)\n",
    "\n",
    "    accel = -4.0/3.0 * math.pi * gravConst * (matterTerm + radiationTerm + darkEnergyTerm)\n",
    "    curHubble = curHubble - timeStep * accel\n",
    "    curScale = curScale - timeStep * curHubble\n",
    "    curTime = curTime - timeStep\n",
    "    lResultsBackward.append((curTime / 1.0e9, curScale))\n",
    "    if len(lResultsBackward) > 1e4:\n",
    "        break\n",
    "\n",
    "# Run simulation forward from present day for another 10 billion years\n",
    "\n",
    "lResultsForward = []\n",
    "\n",
    "curTime = 0.0\n",
    "curScale = 1.0\n",
    "curHubble = hubbleConst\n",
    "\n",
    "while curTime < 1.0e10:\n",
    "\tmatterTerm = matterDensity / (curScale ** 2)\n",
    "\tradiationTerm = 2.0 * radiationDensity / (curScale ** 3)\n",
    "\tdarkEnergyTerm = darkEnergyFactor * darkEnergyDensity / (curScale ** darkEnergyPower)\n",
    "\t\n",
    "\taccel = -4.0/3.0 * math.pi * gravConst * (matterTerm + radiationTerm + darkEnergyTerm)\n",
    "\tcurHubble = curHubble + timeStep * accel\n",
    "\tcurScale = curScale + timeStep * curHubble\n",
    "\tcurTime = curTime + timeStep\n",
    "\n",
    "\tlResultsForward.append((curTime / 1.0e9, curScale))\n",
    "\n",
    "# put together forward and backward integration\n",
    "lResultsBackward.reverse()\n",
    "lResults = lResultsBackward + [(0.0, 1.0)] + lResultsForward"
   ]
  },
  {
   "cell_type": "code",
   "execution_count": 9,
   "metadata": {},
   "outputs": [
    {
     "data": {
      "text/plain": [
       "[<matplotlib.lines.Line2D at 0x443e690>]"
      ]
     },
     "execution_count": 9,
     "metadata": {},
     "output_type": "execute_result"
    },
    {
     "data": {
      "image/png": "[encoded data removed]",
      "text/plain": [
       "<matplotlib.figure.Figure at 0x42b2210>"
      ]
     },
     "metadata": {},
     "output_type": "display_data"
    }
   ],
   "source": [
    "plt.figure()\n",
    "plt.title(\"Evolution of the Universe\")\n",
    "plt.xlabel(\"t [Gyrs]\")\n",
    "plt.ylabel(\"a(t)\")\n",
    "\n",
    "#comparing to analytic solution\n",
    "#a = odeint(Friedmann, a_0, t)\n",
    "#a = np.array(a).flatten()\n",
    "#plt.plot(t[1:],a[1:]) \n",
    "\n",
    "t = []\n",
    "a = []\n",
    "for i in range(len(lResults)):\n",
    "    t.append(lResults[i][0])\n",
    "    a.append(lResults[i][1])\n",
    "\n",
    "plt.plot(t,a)"
   ]
  },
  {
   "cell_type": "markdown",
   "metadata": {
    "collapsed": true
   },
   "source": [
    "For today's class, see if you can find a combination of values for $\\Omega_m$, $\\Omega_r$ and $\\Omega_\\Lambda$ to create a collapsing universe, a \"big bounce\" universe that doesn't originate with a big bang, or a \"loitering universe\" where a(t) = 1 over several billion years."
   ]
  },
  {
   "cell_type": "code",
   "execution_count": null,
   "metadata": {
    "collapsed": true
   },
   "outputs": [],
   "source": []
  }
 ],
 "metadata": {
  "kernelspec": {
   "display_name": "Python 2",
   "language": "python",
   "name": "python2"
  },
  "language_info": {
   "codemirror_mode": {
    "name": "ipython",
    "version": 2
   },
   "file_extension": ".py",
   "mimetype": "text/x-python",
   "name": "python",
   "nbconvert_exporter": "python",
   "pygments_lexer": "ipython2",
   "version": "2.7.15"
  }
 },
 "nbformat": 4,
 "nbformat_minor": 1
}
