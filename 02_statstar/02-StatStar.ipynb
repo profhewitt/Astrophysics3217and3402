{
 "cells": [
  {
   "cell_type": "markdown",
   "metadata": {},
   "source": [
    "# Simple stellar models\n",
    "---\n",
    "\n",
    "Here we will use a simple stellar structure code adopted from the \"Big Orange Book\" [An Introduction to Modern Astrophysics by Carroll & Ostlie](https://www.pearson.com/us/higher-education/program/Carroll-Introduction-to-Modern-Astrophysics-An-2nd-Edition/PGM319535.html).\n",
    "\n",
    "You will need to download the following files from canvas:\n",
    "  * 02-StatStar.ipynb: this notebook file\n",
    "  * statstar.py: python translation of the STATSTAR code by M. Ag$\\ddot{u}$eros and D. Schiminovich\n",
    "  \n",
    "Optionally, you can also take a look at the file `STATSTAR_code_description.pdf` which is a photocopy of the appendix describing the FORTRAN code in the big orange book."
   ]
  },
  {
   "cell_type": "markdown",
   "metadata": {},
   "source": [
    "## First look at STATSTAR\n",
    "\n",
    "A file containing Python code that can be imported is called a module. A module can define functions, classes,  variables, whatever... even runnable code.\n",
    "\n",
    "Let's start by just importing the `statstar.py` module. As soon as we import the module it will initialize the program. Since we have not indicated any inputs in our call to initialize `StatStar` we will immediately be prompted for boundary conditions (observable properties of the star). Let's start by modeling the Sun. "
   ]
  },
  {
   "cell_type": "code",
   "execution_count": null,
   "metadata": {
    "collapsed": true
   },
   "outputs": [],
   "source": [
    "%matplotlib inline"
   ]
  },
  {
   "cell_type": "code",
   "execution_count": null,
   "metadata": {
    "collapsed": true
   },
   "outputs": [],
   "source": [
    "from pylab import *\n",
    "import numpy as np\n",
    "import matplotlib.pyplot as plt"
   ]
  },
  {
   "cell_type": "code",
   "execution_count": null,
   "metadata": {
    "collapsed": false
   },
   "outputs": [],
   "source": [
    "# this line imports the file statstar.py as the class StatStar.\n",
    "from statstar import StatStar"
   ]
  },
  {
   "cell_type": "markdown",
   "metadata": {},
   "source": [
    "Wait... the Sun doesn't work!? \n",
    "`This star has a negative central luminosity!`\n",
    "\n",
    "Let's take a look at the output of the file `starmodl_py.dat`. We can do this using a \"magic function\" that only works in the jupyter notebook. The lines are recorded from inside out, so the line with the negative luminosity appears first. "
   ]
  },
  {
   "cell_type": "code",
   "execution_count": null,
   "metadata": {
    "collapsed": false
   },
   "outputs": [],
   "source": [
    "% less starmodl_py.dat"
   ]
  },
  {
   "cell_type": "markdown",
   "metadata": {},
   "source": [
    "Our code reaches a point close to the center (at $0.087 R_{tot}$) where there is not enough energy being generated at the luminosity becomes negative! This is of course, unphysical. Our star would decrease in luminosity.\n",
    "\n",
    "It turns out that this code is *extremely* finicky and will fail for all but a small range of input conditions. This sort of makes sense, since only a small range of the H-R diagram is filled by stars. But still, you would think it should work for the closest star, the Sun, that we know extremely well. "
   ]
  },
  {
   "cell_type": "markdown",
   "metadata": {
    "collapsed": true
   },
   "source": [
    "To begin, run the code for a model that works, a less luminous solar mass star: $M = 1.0 M_⊙$, $L = 0.86071 L_⊙$, $T_eff = 5500.2 K$, $X = 0.70$, $Z = 0.008$. ***We will call this \"star A\".***\n",
    "\n",
    "Check that the output indicates that you have generated a good model and inspect the output file."
   ]
  },
  {
   "cell_type": "code",
   "execution_count": null,
   "metadata": {
    "collapsed": false
   },
   "outputs": [],
   "source": [
    "M = 1.0\n",
    "L = 0.86071\n",
    "Te = 5500.2\n",
    "X = 0.70\n",
    "Z = 0.008\n",
    "\n",
    "# having defined these variables, we can run the function StatStar this way:\n",
    "StatStar(M,L,Te,X,Z)"
   ]
  },
  {
   "cell_type": "markdown",
   "metadata": {},
   "source": [
    "Check that the output indicates that you have generated a good model and inspect the output file."
   ]
  },
  {
   "cell_type": "code",
   "execution_count": null,
   "metadata": {
    "collapsed": false
   },
   "outputs": [],
   "source": [
    "% less starmodl_py.dat"
   ]
  },
  {
   "cell_type": "markdown",
   "metadata": {},
   "source": [
    "For star A, what are the central conditions that the code has calculated for this star?"
   ]
  },
  {
   "cell_type": "markdown",
   "metadata": {},
   "source": [
    "Let's make sure to rename the output file so that we don't over-write it the next time we run StatStar."
   ]
  },
  {
   "cell_type": "code",
   "execution_count": null,
   "metadata": {
    "collapsed": false
   },
   "outputs": [],
   "source": [
    "% mv starmodl_py.dat starmodel_A.dat"
   ]
  },
  {
   "cell_type": "markdown",
   "metadata": {},
   "source": [
    "## Question 1. Breaking the code\n",
    "\n",
    "Try running the code by modifying the inputs and see the different ways in which the code fails. Describe your inputs and the messages that the code has reported back. Try to get the code to fail in at least *three* different ways (there are more than three possible failure modes). \n",
    "\n",
    "Be sure to include the code's output message about the failure in your answer below. Even with the code’s messages, it may not be obvious at this point exactly why the model fails. Speculate on why your input conditions may have caused the code to fail."
   ]
  },
  {
   "cell_type": "markdown",
   "metadata": {
    "collapsed": true
   },
   "source": [
    "*** ENTER YOUR ANSWER HERE ***"
   ]
  },
  {
   "cell_type": "markdown",
   "metadata": {
    "collapsed": true
   },
   "source": [
    "Let's test another working model: $0.75 \\ M_⊙, \\ 0.1877 \\ L_⊙, \\ T_{eff} = 3839.1 \\ K, \\ X = 0.7, \\ Z = 0.008$. This model should also work. ***We will call this \"star B\".***\n",
    "\n",
    "What are the central conditions for this star?"
   ]
  },
  {
   "cell_type": "code",
   "execution_count": null,
   "metadata": {
    "collapsed": false
   },
   "outputs": [],
   "source": [
    "# add your code here\n",
    "\n",
    "# don't forget to save the output file!"
   ]
  },
  {
   "cell_type": "markdown",
   "metadata": {
    "collapsed": false
   },
   "source": [
    "Now let's plot some results. For our two working models - stars A and B - we can use the output data to plot the density ρ vs. radius R.\n",
    "\n",
    "There is a useful module called `pandas` for reading in text files. We will use it here."
   ]
  },
  {
   "cell_type": "code",
   "execution_count": null,
   "metadata": {
    "collapsed": false
   },
   "outputs": [],
   "source": [
    "import pandas as pd\n",
    "# we need to skip the first 15 rows of the header\n",
    "columns = ['r', 'Qm', 'Lr', 'Temp', 'Pres','rho','kap','eps','trans','dPdT']\n",
    "modelA = pd.read_csv('starmodel_A.dat', sep='\\s*', skiprows=16, names=columns,engine='python')\n",
    "modelB = pd.read_csv('starmodel_B.dat', sep='\\s*', skiprows=16, names=columns,engine='python')"
   ]
  },
  {
   "cell_type": "markdown",
   "metadata": {
    "collapsed": false
   },
   "source": [
    "You can view the data table `modelA` like this:"
   ]
  },
  {
   "cell_type": "code",
   "execution_count": null,
   "metadata": {
    "collapsed": false,
    "scrolled": true
   },
   "outputs": [],
   "source": [
    "modelA"
   ]
  },
  {
   "cell_type": "markdown",
   "metadata": {
    "collapsed": false
   },
   "source": [
    "Generate two plots of density vs. radius for each star."
   ]
  },
  {
   "cell_type": "code",
   "execution_count": null,
   "metadata": {
    "collapsed": false
   },
   "outputs": [],
   "source": [
    "# make a plot of density vs radius\n",
    "figure()\n",
    "plot(modelA.r,modelA.rho)\n",
    "plot(modelB.r,modelB.rho)\n",
    "title('Density vs. Radius')\n",
    "xlabel('Radius (cm)')\n",
    "ylabel('Density (g/cm**3)')\n",
    "show()"
   ]
  },
  {
   "cell_type": "code",
   "execution_count": null,
   "metadata": {
    "collapsed": false
   },
   "outputs": [],
   "source": [
    "# make a plot of temperature vs radius\n",
    "figure()\n",
    "plot(modelA.r,modelA.Temp)\n",
    "plot(modelB.r,modelB.Temp)\n",
    "title('Temperature vs. Radius')\n",
    "xlabel('Radius (cm)')\n",
    "ylabel('Temperature (K)')\n",
    "show()"
   ]
  },
  {
   "cell_type": "code",
   "execution_count": null,
   "metadata": {
    "collapsed": false
   },
   "outputs": [],
   "source": [
    "# make a plot of temperature vs radius\n",
    "figure()\n",
    "plot(modelA.r,modelA.Lr)\n",
    "plot(modelB.r,modelB.Lr)\n",
    "title('Luminosity vs. Radius')\n",
    "xlabel('Radius (cm)')\n",
    "ylabel('Luminosity (erg s**-1 )')\n",
    "show()"
   ]
  },
  {
   "cell_type": "markdown",
   "metadata": {
    "collapsed": false
   },
   "source": [
    "Most of the luminosity for these stars is increasing in the first $1.5\\times10^{10}$ cm of the star (the core area where nuclear fusion happens).\n",
    "\n",
    "In the output file, `eps` represents the energy generation by nuclear fusion. Plot the quantity $\\frac{\\epsilon}{\\rho T^n}$ vs. R for both stars, adopting $n \\sim 4.5$ because these are both \"low mass\" stars. What is the behavior of $\\epsilon$/ρTn over the radii where most of the stars’ luminosity is generated? Why might we expect this?"
   ]
  },
  {
   "cell_type": "code",
   "execution_count": null,
   "metadata": {
    "collapsed": false
   },
   "outputs": [],
   "source": [
    "# define this new quantity\n",
    "modelA['energyT'] = modelA['eps'] / (modelA['rho'] * (modelA['Temp']**4.5))\n",
    "modelB['energyT'] = modelB['eps'] / (modelB['rho'] * (modelB['Temp']**4.5))\n",
    "\n",
    "# make the plot\n",
    "figure()\n",
    "plot(modelA.r,modelA.energyT)\n",
    "plot(modelB.r,modelB.energyT)\n",
    "title('eps/rhoT vs. Radius')\n",
    "xlabel('Radius (cm)')\n",
    "ylabel('eps/rhoT**n')\n",
    "show()"
   ]
  },
  {
   "cell_type": "markdown",
   "metadata": {
    "collapsed": false
   },
   "source": [
    "The behavior appears constantly erratic over the radii where the stars' luminosity is generated. This is likely due to nuclear fusion happening in this area, and the erraticness might be due to the model being ill-defined in the core."
   ]
  },
  {
   "cell_type": "markdown",
   "metadata": {
    "collapsed": false
   },
   "source": [
    "# Question 2.\n",
    "Make a plot of log ρ vs. log T for both stars. Does any part of the star appear to be in a regime where an ideal gas equation of state does not apply?"
   ]
  },
  {
   "cell_type": "code",
   "execution_count": null,
   "metadata": {
    "collapsed": false
   },
   "outputs": [],
   "source": [
    "# your code goes here"
   ]
  },
  {
   "cell_type": "markdown",
   "metadata": {
    "collapsed": false
   },
   "source": [
    "*** ANSWER QUESTION HERE ***"
   ]
  },
  {
   "cell_type": "markdown",
   "metadata": {
    "collapsed": false
   },
   "source": [
    "## Question 3.\n",
    "\n",
    "Now use the stellar structure code STATSTAR to calculate homogeneous, main-sequence models for the parameters in the table below\n",
    "\n",
    "| Mass ($M_⊙$) | Luminosity ($L_⊙$) | Temperature ($K$) |\n",
    "| --- | --- | --- |\n",
    "| 0.5 | 0.02150 | 2331.45 | \n",
    "| 1.0 | 0.86071  | 5500.20 | \n",
    "| 2.0 | 22.61200  | 11218.40 | \n",
    "| 4.0 | 341.09998  | 17904.00 | \n",
    "| 6.0 | 1375.34998  | 22310.00 | \n",
    "| 8.0 | 3421.51978  | 25613.60  | \n",
    "| 10.0 | 6641.59961  | 28263.60  | \n",
    "| 13.5 | 15246.32910 | 32149.90 | \n",
    "\n",
    "All models have X = 0.7, Y = 0.292, and thus Z = 0.008. Remember to rename the output file after each model run, because future runs will overwrite this file.\n",
    "\n",
    "After obtaining satisfactory models, overplot these masses on the following graphs:\n",
    " * P vs. R\n",
    " * M vs. R\n",
    " * L vs. R\n",
    " * T vs. R\n",
    " \n",
    "You may find that you need to plot only a subset of these masses (say, 0.5, 1.0, 4.0, 8.0, and 13.5 $M_⊙$) rather than every single one. Plot as many masses as needed to show the differences in structure."
   ]
  },
  {
   "cell_type": "code",
   "execution_count": null,
   "metadata": {
    "collapsed": false
   },
   "outputs": [],
   "source": [
    "# your code goes here"
   ]
  },
  {
   "cell_type": "markdown",
   "metadata": {
    "collapsed": false
   },
   "source": [
    "*** ANSWER QUESTION HERE ***"
   ]
  },
  {
   "cell_type": "markdown",
   "metadata": {
    "collapsed": false
   },
   "source": [
    "## Question 4.\n",
    "\n",
    "For each of the masses, plot log ($L/L_⊙$) vs. log ($M/M_⊙$). Then, using an approximate power-law relation (formally known as the mass-luminosity relation) of the form ($L/L_⊙$) = ($M/M_⊙$)$^ν$, find an appropriate value for ν. Do you find that ν varies with mass? How does your value for ν compare to those found in the textbook or my slides?"
   ]
  },
  {
   "cell_type": "code",
   "execution_count": null,
   "metadata": {
    "collapsed": false
   },
   "outputs": [],
   "source": [
    "# your code goes here"
   ]
  },
  {
   "cell_type": "markdown",
   "metadata": {
    "collapsed": false
   },
   "source": [
    "*** ANSWER QUESTION HERE ***"
   ]
  }
 ],
 "metadata": {
  "kernelspec": {
   "display_name": "Python 2",
   "language": "python",
   "name": "python2"
  },
  "language_info": {
   "codemirror_mode": {
    "name": "ipython",
    "version": 2
   },
   "file_extension": ".py",
   "mimetype": "text/x-python",
   "name": "python",
   "nbconvert_exporter": "python",
   "pygments_lexer": "ipython2",
   "version": "2.7.12"
  }
 },
 "nbformat": 4,
 "nbformat_minor": 1
}
