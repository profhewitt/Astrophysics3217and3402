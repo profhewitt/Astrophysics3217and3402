{
 "cells": [
  {
   "cell_type": "markdown",
   "metadata": {},
   "source": [
    "# H-R diagram using ZAMS models\n",
    "---\n",
    "\n",
    "Here we will explore the evolution of stars using the EZ Web stellar structure code by Rich Townsend. This is located at the following website:\n",
    "\n",
    "http://www.astro.wisc.edu/~townsend/static.php?ref=ez-web#Submit_a_Calculation\n",
    "\n",
    "Using EZ Web, run a stellar structure model of the Sun by choosing the following settings:\n",
    "1. initial mass=1.0 (this is 1.0M⊙)\n",
    "2. Metallicity=0.02\n",
    "3. Maximum Age=0\n",
    "4. Maximum Number of Steps=0\n",
    "5. Create Detailed Structure Files=no\n",
    "\n",
    "Run a second model of a high-mass 15M⊙ star, with other settings the same. \n",
    "\n",
    "Use python to make the following figures, and answer the questions below. You will need to interact with summary data, contained in “summary.txt”. You’ll need to do this for a couple of simulations. "
   ]
  },
  {
   "cell_type": "markdown",
   "metadata": {},
   "source": [
    "I leave it up to you how to organize things, but here are some suggestions about how to organize your data and how to access the files:\n",
    "\n",
    "***Storing simulation data***: As you download your EZ Web runs, you will find that you have several stars worth of data on your hands. Good organization will make this easier to keep track of. Make sure that each file is named with the mass and metallicity of your simulation runs, and put these in the directory where your python code is running from. For example, you might call the solar run “1M_0.02” and the high-mass run “15M_0.02”. In the python code below, these will correspond to the variable “case”.\n",
    "\n",
    "***Reading summary files***: The summary.txt files contain the full stellar evolution history of a particular model run (a “case”). Some code that will help read in these files and identifies the location of the temperature and luminosity data appears below."
   ]
  },
  {
   "cell_type": "markdown",
   "metadata": {},
   "source": [
    "## Plotting\n",
    "\n",
    "Let's start with an introduction to the python library *matplotlib*. You can see may examples of plots and the associated code on this webpage:\n",
    "https://matplotlib.org/gallery.html"
   ]
  },
  {
   "cell_type": "code",
   "execution_count": null,
   "metadata": {
    "collapsed": true
   },
   "outputs": [],
   "source": [
    "# import pylab for plotting features\n",
    "from pylab import *\n",
    "# import numpy\n",
    "import numpy as np"
   ]
  },
  {
   "cell_type": "code",
   "execution_count": null,
   "metadata": {
    "collapsed": false
   },
   "outputs": [],
   "source": [
    "# A sample plot of discrete values\n",
    "\n",
    "# The lists must have the same number of elements in order to plot an x,y pair\n",
    "x=[0,1,2,3,4,5,6]\n",
    "y=[0,-1,-0.5,0,0.5,1,0.5]\n",
    "\n",
    "figure() # this initializes a figure\n",
    "plot(x,y) # this plots the points and by default connects them with a line.\n",
    "show() # this shows the figure below"
   ]
  },
  {
   "cell_type": "code",
   "execution_count": null,
   "metadata": {
    "collapsed": false
   },
   "outputs": [],
   "source": [
    "# If you don't want your points connected by lines, but rather plotted \n",
    "#  as red dots you can use this instead:\n",
    "\n",
    "figure()\n",
    "plot(x,y,'.r')\n",
    "show()\n",
    "\n",
    "# by default it's a bit hard to see those points at the edges, so we\n",
    "#  can specify the plotting bounds and label the axes.\n",
    "\n",
    "figure()\n",
    "title(\"My favorite plot\")\n",
    "ylabel(\"y-axis\")\n",
    "xlabel(\"x-axis\")\n",
    "xlim(min(x)-1.,max(x)+1.) # take the min/max of x+/-1 to get the range\n",
    "ylim(min(y)-1.,max(y)+1.)\n",
    "grid(True) # fancy\n",
    "plot(x,y,'.r')\n",
    "show()\n",
    "\n",
    "# We like it so much, we are going to post it to instagram\n",
    "savefig(\"myplot1.png\")\n"
   ]
  },
  {
   "cell_type": "markdown",
   "metadata": {},
   "source": [
    "Go ahead and open your plot. I'll wait."
   ]
  },
  {
   "cell_type": "markdown",
   "metadata": {},
   "source": [
    "You can also generate an array of points and plot a function."
   ]
  },
  {
   "cell_type": "code",
   "execution_count": null,
   "metadata": {
    "collapsed": false
   },
   "outputs": [],
   "source": [
    "# linspace makes an evenly spaced array of points from min to max,\n",
    "# with arguments: (min, max, number of points)\n",
    "x = linspace(0, 2*pi, 100)\n",
    "y = sin(x)\n",
    "z = cos(x)\n",
    "figure()\n",
    "plot(x,y)\n",
    "plot(x,z)\n",
    "title(\"My trig. functions\")\n",
    "xlabel(\"X-value\")\n",
    "ylabel(\"Y-value\")\n",
    "show()"
   ]
  },
  {
   "cell_type": "markdown",
   "metadata": {},
   "source": [
    "And best of all you can import lists of data and plot them quite simply."
   ]
  },
  {
   "cell_type": "code",
   "execution_count": null,
   "metadata": {
    "collapsed": false
   },
   "outputs": [],
   "source": [
    "# Here's an example of how to plot a spectroscopic standard file\n",
    "# downloaded from ftp://ftp.eso.org/pub/stecf/standards/hststan/\n",
    "Flux_file = \"fhr7001.dat\"\n",
    "\n",
    "# read in the data from the ESO standard file\n",
    "wavelength,flux,error=np.loadtxt(Flux_file, usecols=(0,1,2), unpack=True) \n",
    "\n",
    "# convert flux back to un-normalized values: (based on documentation\n",
    "# at ftp://ftp.eso.org/pub/stecf/standards/hststan/aaareadme.hst)\n",
    "flux = flux/1e16\n",
    "\n",
    "figure()\n",
    "plot(wavelength, flux)\n",
    "ylabel(\"$F_\\lambda$\")\n",
    "xlabel(\"Wavelength [$\\AA$]\")\n",
    "show()"
   ]
  },
  {
   "cell_type": "markdown",
   "metadata": {},
   "source": [
    "## Part 1\n",
    "\n",
    "Using the “summary.txt” file, plot an HR diagram (log Luminosity versus surface Temperature) for the evolution of the Sun. Identify the Zero Age Main Sequence (ZAMS) and the red giant branch. Find the point on the track through the HR diagram where the model is the age of the Sun (4.6 Gyr) and mark this point on your figure. Make sure your temperature axis runs in the same sense as in your textbook. Label both the X and Y-axis appropriately."
   ]
  },
  {
   "cell_type": "code",
   "execution_count": null,
   "metadata": {
    "collapsed": true
   },
   "outputs": [],
   "source": [
    "# It isn't always terribly straightforward to read data files.\n",
    "#  What I do here is define a function to read in the summary\n",
    "#  files assuming the variable \"case\" \n",
    "\n",
    "from pylab import *\n",
    "#import bisect\n",
    "\n",
    "def read_summary(case):\n",
    "    # this is a routine for reading in summary data using numpy's genfromtxt\n",
    "    summary_data = genfromtxt(case+\"_summary.txt\")\n",
    "    return summary_data\n",
    "\n",
    "# Example to read-in a summary data file\n",
    "data = read_summary(\"1M_0.02\")\n",
    "\n",
    "# What are all these lists of numbers?!\n",
    "# Take a look at Rich’s documentation:\n",
    "#  http://www.astro.wisc.edu/ ̃townsend/static.php?ref=ez-web\n",
    "\n",
    "# In python, list indexing starts with 0;\n",
    "# and subtract 1 from each quantity\n",
    "\n",
    "time = data[:,1]\n",
    "logL = data[:,3]\n",
    "logTs = data[:,5]\n",
    "Tsurf = 10**logTs"
   ]
  },
  {
   "cell_type": "code",
   "execution_count": null,
   "metadata": {
    "collapsed": false
   },
   "outputs": [],
   "source": [
    "# here is some example code if you would like to write things functionally\n",
    "from pylab import *\n",
    "import bisect\n",
    "\n",
    "case = '1M_0.02'\n",
    "data = genfromtxt(case+\"_summary.txt\")\n",
    "years = data[:,1]\n",
    "logL = data[:,3]\n",
    "logTs = data[:,5]\n",
    "Tsurf = 10**logTs"
   ]
  },
  {
   "cell_type": "markdown",
   "metadata": {},
   "source": [
    "As an example, we will plot together the evolution of our own Sun on the H-R Diagram.\n",
    "\n",
    "A star is \"born\" onto the main-sequence (we will learn about how stars form later, but for now just know that at time=0 the star appears). \"Zero age main sequence\" (or ZAMS) stars are thus the starting point. This depends only on metallicity and stellar mass.\n",
    "\n",
    "As a star ages ages, it will slowly change and then suddenly evolve off the main-sequence. It's path across the H-R diagram can be plotted using the code below."
   ]
  },
  {
   "cell_type": "code",
   "execution_count": null,
   "metadata": {
    "collapsed": false
   },
   "outputs": [],
   "source": [
    "figure()\n",
    "plot(Tsurf,logL)\n",
    "title(\"HR diagram for 1 $M_\\odot$, Z=0.02 star\")\n",
    "ylabel(\"log $L$ [$\\odot$]\") # anyting between $ $ is interpreted as latex \n",
    "xlabel(\"$T_{eff}$ [K]\")\n",
    "show()"
   ]
  },
  {
   "cell_type": "markdown",
   "metadata": {},
   "source": [
    "Not bad. Two problems with this plot:\n",
    "   1. An H-R diagram has a flipped temperature axis, so the hottest stars are closest to the y-axis.\n",
    "   2. Where is the Sun currently? It would be helpful to mark that point on this plot."
   ]
  },
  {
   "cell_type": "code",
   "execution_count": null,
   "metadata": {
    "collapsed": false
   },
   "outputs": [],
   "source": [
    "# Find the first element in a list greater than 4.6 Gyr\n",
    "now = next(i for i,v in enumerate(years) if v > 4.6e9)\n",
    "\n",
    "print (\"The sun's current age of 4.6 Gyr appears as the \"\n",
    "       +str(now)+\"th element of the list \\\"years\\\"\")\n",
    "       # note how to get quotes to print within quotes."
   ]
  },
  {
   "cell_type": "code",
   "execution_count": null,
   "metadata": {
    "collapsed": false
   },
   "outputs": [],
   "source": [
    "figure()\n",
    "plot(Tsurf,logL)\n",
    "title(\"HR diagram for 1 $M_\\odot$, Z=0.02 star\")\n",
    "ylabel(\"log $L$ [$\\odot$]\") # anyting between $ $ is interpreted as latex \n",
    "xlabel(\"$T_{eff}$ [K]\")\n",
    "gca().invert_xaxis() #flips Temperature axis.\n",
    "plot(Tsurf[0],logL[0],\"o\",color=\"blue\")\n",
    "annotate(\"ZAMS\",(Tsurf[0],logL[0]),color=\"blue\")\n",
    "plot(Tsurf[now],logL[now],\"o\",color=\"black\")\n",
    "annotate(\"Sun\",(Tsurf[now],logL[now]))\n",
    "savefig(\"hrdia_sun.png\")\n",
    "show()"
   ]
  },
  {
   "cell_type": "markdown",
   "metadata": {},
   "source": [
    "# Part 2. \n",
    "\n",
    "It doesn't seem like the Sun has moved very far since it was born... but the HR diagram doesn't have a time axis. Let's see how the Sun's luminosity will change with time."
   ]
  },
  {
   "cell_type": "code",
   "execution_count": null,
   "metadata": {
    "collapsed": false
   },
   "outputs": [],
   "source": [
    "figure()\n",
    "title(\"The past, present and future Sun.\")\n",
    "\n",
    "plot( ???? )\n",
    "xlabel ( ???? )\n",
    "ylabel ( ???? )\n",
    "\n",
    "annotate(\"Sun\",(years[now],logL[now]))\n",
    "show()"
   ]
  },
  {
   "cell_type": "markdown",
   "metadata": {},
   "source": [
    "# Part 3. \n",
    "\n",
    "Now plot the evolution of the 15 $M_⊙$ star in its own HR diagram. Use your plots to answer deterine when our Sun will be as bright as a 15 $M_⊙$ star."
   ]
  },
  {
   "cell_type": "code",
   "execution_count": null,
   "metadata": {
    "collapsed": true
   },
   "outputs": [],
   "source": []
  },
  {
   "cell_type": "markdown",
   "metadata": {},
   "source": [
    "# Part 4. \n",
    "\n",
    "Plot the zero-age main-sequence line for stars between 0.01 and 50 M$_\\odot$ on the HR diagram by generating several different summary plots assuming solar metallicity. (Hint: the EZ models will generate faster if you specify a small, non-zero age.)\n",
    "\n",
    "How might you use these stellar models to determine the age of a star cluster?"
   ]
  },
  {
   "cell_type": "code",
   "execution_count": null,
   "metadata": {
    "collapsed": true
   },
   "outputs": [],
   "source": []
  },
  {
   "cell_type": "markdown",
   "metadata": {},
   "source": [
    "When completed, please download your completed notebook as an \"iPython notebook (.ipynb)\" and upload the file through the [canvas link for Python 1 - ZAMS](https://canvas.unf.edu/courses/7201/assignments/71788) along with all of the requested plots.\n",
    "\n",
    "The assignment is due by 3pm on Wednesday, November 1."
   ]
  }
 ],
 "metadata": {
  "kernelspec": {
   "display_name": "Python 3",
   "language": "python",
   "name": "python3"
  },
  "language_info": {
   "codemirror_mode": {
    "name": "ipython",
    "version": 3
   },
   "file_extension": ".py",
   "mimetype": "text/x-python",
   "name": "python",
   "nbconvert_exporter": "python",
   "pygments_lexer": "ipython3",
   "version": "3.4.5"
  }
 },
 "nbformat": 4,
 "nbformat_minor": 1
}
